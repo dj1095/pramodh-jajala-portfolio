{
 "cells": [
  {
   "cell_type": "code",
   "execution_count": 1,
   "id": "7e82d33c",
   "metadata": {},
   "outputs": [],
   "source": [
    "import json\n",
    "import math as m\n",
    "\n",
    "import pandas as pd\n",
    "import numpy as np\n",
    "import matplotlib.pyplot as plt\n",
    "from sklearn.model_selection import train_test_split"
   ]
  },
  {
   "cell_type": "code",
   "execution_count": 2,
   "id": "d358f14d",
   "metadata": {},
   "outputs": [],
   "source": [
    "# Build a vocab list from train dataset\n",
    "def build_vocab_list(train_dataset):\n",
    "    vocab_list = []\n",
    "    for record in train_dataset:\n",
    "        vocab_list.extend(record['headline'].split(\" \"))\n",
    "    vocab_list = [word.lower() for word in list(set(vocab_list))]\n",
    "    return vocab_list"
   ]
  },
  {
   "cell_type": "code",
   "execution_count": 3,
   "id": "013de925",
   "metadata": {},
   "outputs": [],
   "source": [
    "#create count frequency of words on training data\n",
    "def build_doc_freq_dict(train_dataset,categories):\n",
    "    word_frequency_dict = {category:{vocab:0 for vocab in vocab_list} for category in categories}\n",
    "    for record in train_dataset:\n",
    "        for word in record['headline'].split(\" \"):\n",
    "            word_frequency_dict[record['category']][word.lower()]+=1\n",
    "    return word_frequency_dict\n"
   ]
  },
  {
   "cell_type": "code",
   "execution_count": 4,
   "id": "21ce3c80",
   "metadata": {},
   "outputs": [],
   "source": [
    "# seperate dataset by class \n",
    "def get_data_group_by_classes(dataset):\n",
    "    seperated_category_dict = {category:[] for category in categories}\n",
    "    for record in dataset:\n",
    "        seperated_category_dict[record['category']].append(record)\n",
    "    return seperated_category_dict"
   ]
  },
  {
   "cell_type": "code",
   "execution_count": 5,
   "id": "b258ea54",
   "metadata": {},
   "outputs": [],
   "source": [
    "#checks if smoothing is needed\n",
    "def is_smoothing_needed(text,word_dict,category):\n",
    "    for word in text.split(\" \"):\n",
    "        if word not in word_dict[category].keys():\n",
    "            return True\n",
    "    return False\n",
    "\n",
    "# get probability of the text assuming conditional independence(naive bayes)         \n",
    "def get_naive_probability(category,text,word_dict,grouped_classes_dict,dataset):\n",
    "    text = text.lower()\n",
    "    if category not in word_dict.keys():\n",
    "        return\n",
    "    total_word_cond_prob = 1\n",
    "    smoothing_factor = 1\n",
    "    smoothing_indicator = is_smoothing_needed(text,word_dict,category)\n",
    "    for word in text.split(\" \"):\n",
    "        if not smoothing_indicator:\n",
    "            total_word_cond_prob *= (word_dict[category][word]/len(word_dict[category]))\n",
    "        else:\n",
    "            total_word_cond_prob *= (1/(len(word_dict[category])+smoothing_factor*len(word_dict[category]))) # Smoothing technique\n",
    "    class_probability = (len(grouped_classes_dict[category])/len(dataset))\n",
    "    return total_word_cond_prob * class_probability\n",
    "       "
   ]
  },
  {
   "cell_type": "code",
   "execution_count": 6,
   "id": "6bb6a9fb",
   "metadata": {},
   "outputs": [],
   "source": [
    "#get the predicted class given text belong to\n",
    "def get_predicted_class(categories,str_to_predict,word_frequency_dict,group_classes_dict,train_dataset):\n",
    "    greatest_prob = 0\n",
    "    predicted_category = ''\n",
    "    for category in categories:\n",
    "        total_word_cond_prob = 1\n",
    "        prob_of_category_contains_headline =  get_naive_probability(category,str_to_predict,word_frequency_dict,group_classes_dict,train_dataset)\n",
    "        if prob_of_category_contains_headline > greatest_prob:\n",
    "            greatest_prob = prob_of_category_contains_headline\n",
    "            predicted_category = category\n",
    "        #print(f'''prob_of_category_contains_headline {category} is {prob_of_category_contains_headline}''')\n",
    "    return predicted_category"
   ]
  },
  {
   "cell_type": "code",
   "execution_count": 7,
   "id": "3f659eaa",
   "metadata": {},
   "outputs": [],
   "source": [
    " #calculate the accuracy of the classifier over given dataset:\n",
    "def get_accuracy(dataset,categories,word_frequency_dict,group_classes_dict):\n",
    "    correct_predicted = 0\n",
    "    for record in dataset: \n",
    "        predicted_category = get_predicted_class(categories,record['headline'],word_frequency_dict,group_classes_dict,dataset)\n",
    "        if predicted_category == record['category']:\n",
    "            correct_predicted+=1\n",
    "    return correct_predicted/len(dataset)"
   ]
  },
  {
   "cell_type": "code",
   "execution_count": 8,
   "id": "1ba2c6d1",
   "metadata": {},
   "outputs": [
    {
     "name": "stdout",
     "output_type": "stream",
     "text": [
      " Number of records in the dataset: 200853\n",
      " Number of different categories in the dataset: 41\n"
     ]
    }
   ],
   "source": [
    "# Load the original dataset. \n",
    "dataset = []\n",
    "categories = []\n",
    "with open('data/News_Category_Dataset_v2.json') as data:\n",
    "    for line_num,record in enumerate(data,start=0):\n",
    "        dataset.append(json.loads(record))\n",
    "        if dataset[line_num]['category'] not in categories:\n",
    "            categories.append(dataset[line_num]['category'])\n",
    "no_of_records = len(dataset)\n",
    "print(f\"\"\" Number of records in the dataset: {no_of_records}\"\"\")\n",
    "print(f\"\"\" Number of different categories in the dataset: {len(categories)}\"\"\")\n"
   ]
  },
  {
   "cell_type": "code",
   "execution_count": 9,
   "id": "63160949",
   "metadata": {},
   "outputs": [
    {
     "data": {
      "text/html": [
       "<div>\n",
       "<style scoped>\n",
       "    .dataframe tbody tr th:only-of-type {\n",
       "        vertical-align: middle;\n",
       "    }\n",
       "\n",
       "    .dataframe tbody tr th {\n",
       "        vertical-align: top;\n",
       "    }\n",
       "\n",
       "    .dataframe thead th {\n",
       "        text-align: right;\n",
       "    }\n",
       "</style>\n",
       "<table border=\"1\" class=\"dataframe\">\n",
       "  <thead>\n",
       "    <tr style=\"text-align: right;\">\n",
       "      <th></th>\n",
       "      <th>category</th>\n",
       "      <th>headline</th>\n",
       "      <th>authors</th>\n",
       "      <th>link</th>\n",
       "      <th>short_description</th>\n",
       "      <th>date</th>\n",
       "    </tr>\n",
       "  </thead>\n",
       "  <tbody>\n",
       "    <tr>\n",
       "      <th>0</th>\n",
       "      <td>CRIME</td>\n",
       "      <td>There Were 2 Mass Shootings In Texas Last Week...</td>\n",
       "      <td>Melissa Jeltsen</td>\n",
       "      <td>https://www.huffingtonpost.com/entry/texas-ama...</td>\n",
       "      <td>She left her husband. He killed their children...</td>\n",
       "      <td>2018-05-26</td>\n",
       "    </tr>\n",
       "    <tr>\n",
       "      <th>1</th>\n",
       "      <td>ENTERTAINMENT</td>\n",
       "      <td>Will Smith Joins Diplo And Nicky Jam For The 2...</td>\n",
       "      <td>Andy McDonald</td>\n",
       "      <td>https://www.huffingtonpost.com/entry/will-smit...</td>\n",
       "      <td>Of course it has a song.</td>\n",
       "      <td>2018-05-26</td>\n",
       "    </tr>\n",
       "    <tr>\n",
       "      <th>2</th>\n",
       "      <td>ENTERTAINMENT</td>\n",
       "      <td>Hugh Grant Marries For The First Time At Age 57</td>\n",
       "      <td>Ron Dicker</td>\n",
       "      <td>https://www.huffingtonpost.com/entry/hugh-gran...</td>\n",
       "      <td>The actor and his longtime girlfriend Anna Ebe...</td>\n",
       "      <td>2018-05-26</td>\n",
       "    </tr>\n",
       "    <tr>\n",
       "      <th>3</th>\n",
       "      <td>ENTERTAINMENT</td>\n",
       "      <td>Jim Carrey Blasts 'Castrato' Adam Schiff And D...</td>\n",
       "      <td>Ron Dicker</td>\n",
       "      <td>https://www.huffingtonpost.com/entry/jim-carre...</td>\n",
       "      <td>The actor gives Dems an ass-kicking for not fi...</td>\n",
       "      <td>2018-05-26</td>\n",
       "    </tr>\n",
       "    <tr>\n",
       "      <th>4</th>\n",
       "      <td>ENTERTAINMENT</td>\n",
       "      <td>Julianna Margulies Uses Donald Trump Poop Bags...</td>\n",
       "      <td>Ron Dicker</td>\n",
       "      <td>https://www.huffingtonpost.com/entry/julianna-...</td>\n",
       "      <td>The \"Dietland\" actress said using the bags is ...</td>\n",
       "      <td>2018-05-26</td>\n",
       "    </tr>\n",
       "  </tbody>\n",
       "</table>\n",
       "</div>"
      ],
      "text/plain": [
       "        category                                           headline  \\\n",
       "0          CRIME  There Were 2 Mass Shootings In Texas Last Week...   \n",
       "1  ENTERTAINMENT  Will Smith Joins Diplo And Nicky Jam For The 2...   \n",
       "2  ENTERTAINMENT    Hugh Grant Marries For The First Time At Age 57   \n",
       "3  ENTERTAINMENT  Jim Carrey Blasts 'Castrato' Adam Schiff And D...   \n",
       "4  ENTERTAINMENT  Julianna Margulies Uses Donald Trump Poop Bags...   \n",
       "\n",
       "           authors                                               link  \\\n",
       "0  Melissa Jeltsen  https://www.huffingtonpost.com/entry/texas-ama...   \n",
       "1    Andy McDonald  https://www.huffingtonpost.com/entry/will-smit...   \n",
       "2       Ron Dicker  https://www.huffingtonpost.com/entry/hugh-gran...   \n",
       "3       Ron Dicker  https://www.huffingtonpost.com/entry/jim-carre...   \n",
       "4       Ron Dicker  https://www.huffingtonpost.com/entry/julianna-...   \n",
       "\n",
       "                                   short_description        date  \n",
       "0  She left her husband. He killed their children...  2018-05-26  \n",
       "1                           Of course it has a song.  2018-05-26  \n",
       "2  The actor and his longtime girlfriend Anna Ebe...  2018-05-26  \n",
       "3  The actor gives Dems an ass-kicking for not fi...  2018-05-26  \n",
       "4  The \"Dietland\" actress said using the bags is ...  2018-05-26  "
      ]
     },
     "execution_count": 9,
     "metadata": {},
     "output_type": "execute_result"
    }
   ],
   "source": [
    "#Peek into the dataset\n",
    "df = pd.DataFrame(dataset)\n",
    "df.head()"
   ]
  },
  {
   "cell_type": "code",
   "execution_count": 10,
   "id": "6b6523c6",
   "metadata": {},
   "outputs": [
    {
     "data": {
      "image/png": "[encoded data removed]",
      "text/plain": [
       "<Figure size 720x720 with 1 Axes>"
      ]
     },
     "metadata": {
      "needs_background": "light"
     },
     "output_type": "display_data"
    }
   ],
   "source": [
    "# plot the data distribution of all news categories in the dataset\n",
    "#df.loc[:,'category'].value_counts() #to check the no of records in each category\n",
    "fig, ax = plt.subplots()\n",
    "fig.set_figheight(10)\n",
    "fig.set_figwidth(10)\n",
    "ax.barh(df.loc[:,'category'].value_counts().keys(),df.loc[:,'category'].value_counts().values, alpha=0.5)\n",
    "ax.set_ylabel(\"News Categories\")\n",
    "ax.set_xlabel('No.of records in the category')\n",
    "ax.set_title('News Dataset Classification')\n",
    "plt.show()"
   ]
  },
  {
   "cell_type": "code",
   "execution_count": 11,
   "id": "ceca1ff3",
   "metadata": {},
   "outputs": [
    {
     "name": "stdout",
     "output_type": "stream",
     "text": [
      "Iteration:1 Accuracy of the Naive Baye's Classifier over test dataset is 27.96%\n",
      "Iteration:2 Accuracy of the Naive Baye's Classifier over test dataset is 27.67%\n",
      "Iteration:3 Accuracy of the Naive Baye's Classifier over test dataset is 27.66%\n",
      "Iteration:4 Accuracy of the Naive Baye's Classifier over test dataset is 27.96%\n",
      "Iteration:5 Accuracy of the Naive Baye's Classifier over test dataset is 27.68%\n"
     ]
    },
    {
     "data": {
      "image/png": "[encoded data removed]",
      "text/plain": [
       "<Figure size 360x360 with 1 Axes>"
      ]
     },
     "metadata": {
      "needs_background": "light"
     },
     "output_type": "display_data"
    },
    {
     "name": "stdout",
     "output_type": "stream",
     "text": [
      "Average Accuracy of the Naive Baye's Classifier over test dataset is 27.79%\n"
     ]
    }
   ],
   "source": [
    "#Divide the dataset into train and test data\n",
    "k_fold =5\n",
    "accuracy_list = []\n",
    "for i in range(k_fold):\n",
    "    train_dataset,test_dataset = train_test_split(dataset,test_size=0.1)\n",
    "    #print(f\"\"\" Number of records in the training dataset: {len(train_dataset)}\"\"\")\n",
    "    #print(f\"\"\" Number of records in the test dataset: {len(test_dataset)}\"\"\")\n",
    "    #Group all records with their respective category\n",
    "    group_classes_dict = get_data_group_by_classes(train_dataset)\n",
    "    vocab_list = build_vocab_list(train_dataset)\n",
    "    word_frequency_dict = build_doc_freq_dict(train_dataset,categories)\n",
    "    test_accuracy = get_accuracy(test_dataset,categories,word_frequency_dict,group_classes_dict)\n",
    "    accuracy_list.append(test_accuracy)\n",
    "    print(f'''Iteration:{i+1} Accuracy of the Naive Baye's Classifier over test dataset is {round(test_accuracy*100,2)}%''')\n",
    "fig2, ax2 = plt.subplots()\n",
    "fig2.set_figheight(5)\n",
    "fig2.set_figwidth(5)\n",
    "ax2.bar(np.arange(1,6),accuracy_list, alpha=0.5)\n",
    "ax2.set_ylabel(\"Accuracies\")\n",
    "ax2.set_xlabel('Itearions')\n",
    "ax2.set_title('Accuracies for 5 fold iteration')\n",
    "plt.show()\n",
    "print(f'''Average Accuracy of the Naive Baye's Classifier over test dataset is {round(np.mean(np.array(accuracy_list))*100,2)}%''')"
   ]
  },
  {
   "cell_type": "code",
   "execution_count": null,
   "id": "93068d06",
   "metadata": {},
   "outputs": [],
   "source": []
  }
 ],
 "metadata": {
  "kernelspec": {
   "display_name": "Python 3 (ipykernel)",
   "language": "python",
   "name": "python3"
  },
  "language_info": {
   "codemirror_mode": {
    "name": "ipython",
    "version": 3
   },
   "file_extension": ".py",
   "mimetype": "text/x-python",
   "name": "python",
   "nbconvert_exporter": "python",
   "pygments_lexer": "ipython3",
   "version": "3.9.7"
  }
 },
 "nbformat": 4,
 "nbformat_minor": 5
}
